{
 "cells": [
  {
   "cell_type": "markdown",
   "id": "b6c18653-9acf-4aa5-9800-76dadb55a338",
   "metadata": {
    "tags": []
   },
   "source": [
    "# Amazon Bedrock - Latency Benchmark Tool\n",
    "This notebook contains a set of tools to benchmark inference latency for Foundation Models available in Amazon Bedrock. \n",
    "\n",
    "You can evaluate latency for different scenarios such as comparison between models, regions, use cases...\n",
    "\n",
    "To run this notebook you will need to have the appropiate access to Amazon Bedrock, and previously enabled the models from the Amazon Bedrock Console. \n",
    "\n",
    "## Scenarios in this notebook\n",
    "\n",
    "#### 1. Model Comparison \n",
    "#### 2. Region Comparison\n",
    "#### 3. Use Case Comparison\n",
    "\n",
    "## Install needed dependencies\n",
    "This notebook requires a Python 3 environment"
   ]
  },
  {
   "cell_type": "code",
   "execution_count": null,
   "id": "fe1b39d1-be17-4c26-afc9-9718ac0c4e24",
   "metadata": {
    "tags": []
   },
   "outputs": [],
   "source": [
    "!pip install --quiet --upgrade pip\n",
    "!pip install --quiet --upgrade boto3 awscli matplotlib numpy pandas anthropic"
   ]
  },
  {
   "cell_type": "code",
   "execution_count": null,
   "id": "d90ae496-c922-446d-9928-b49abf2439c9",
   "metadata": {
    "tags": []
   },
   "outputs": [],
   "source": [
    "from utils.utils import benchmark, create_prompt, execute_benchmark, get_cached_client, post_iteration\n",
    "import matplotlib.pyplot as plt"
   ]
  },
  {
   "cell_type": "markdown",
   "id": "0233b6f7-1996-4fa5-8378-6e88bd64cd73",
   "metadata": {
    "tags": []
   },
   "source": [
    "## Scenario keys and configurations\n",
    "\n",
    "Each scenario is a dictionary with latency relevant keys:\n",
    "\n",
    "| Key | Definition |\n",
    "|-|-|\n",
    "| `model_id` | The model to test, smaller models are likely slower. Currently only Anthropic models are supported. |\n",
    "| `in_tokens` | The number of tokens to feed to the model. aka: input context length. Range: 40 - 100K.|\n",
    "| `out_tokens` | The number of tokens for the model to generate. Range: 1 - 8191. |\n",
    "| `region` | The AWS region to invoke Bedrock in. This can affect network latency depending on client location. |\n",
    "| `stream` | True&#124;False - A streaming response starts returning tokens to the client as they are generated, instead of waiting before returning the complete resopnses. This should be True for interactive use cases.|\n",
    "| `name` | A human readable name for the scenario (will appear in reports and graphs). |\n",
    "\n",
    "Each scenario also has a benchmark configuration you can modify:\n",
    "\n",
    "| Key | Definition |\n",
    "|-|-|\n",
    "| `invocations_per_scenario` | The number of times to benchmark each scenario. This is important in measuring variance and average response time across a long duration. |\n",
    "| `sleep_between_invocations` | Seconds to sleep between each invocation. (0 is no sleep). Sleeping between invocation can help you measure across longer periods of time, and/or avoid throttling.|"
   ]
  },
  {
   "cell_type": "markdown",
   "id": "c6c14d81-e230-4a7b-bb9c-6aae36d23740",
   "metadata": {
    "jp-MarkdownHeadingCollapsed": true,
    "tags": []
   },
   "source": [
    "## Scenario 1. Model Comparison"
   ]
  },
  {
   "cell_type": "code",
   "execution_count": null,
   "id": "ab76398a-06cc-4854-b726-a9e09e10905b",
   "metadata": {
    "tags": []
   },
   "outputs": [],
   "source": [
    "model_compare_scenarios = [\n",
    "            {\n",
    "                'model_id'    : 'anthropic.claude-v2',\n",
    "                'in_tokens'  : 200,\n",
    "                'out_tokens' : 50,\n",
    "                'region'     : 'us-east-1',\n",
    "                'stream' : True,\n",
    "                'name' : f'claude-v2. in=200, out=50',\n",
    "            },\n",
    "            {\n",
    "                'model_id'    : 'anthropic.claude-instant-v1',\n",
    "                'in_tokens' : 200,\n",
    "                'out_tokens' : 50,\n",
    "                'region'     : 'us-east-1',\n",
    "                'stream' : True,\n",
    "                'name' : f'claude-instant-v1. in=200, out=50',\n",
    "            },\n",
    "]\n",
    "\n",
    "scenario_config = {\n",
    "    \"invocations_per_scenario\" : 2,\n",
    "    \"sleep_between_invocations\": 5\n",
    "}"
   ]
  },
  {
   "cell_type": "code",
   "execution_count": null,
   "id": "8198a77d-7087-4cd8-8877-d44df4ad5d70",
   "metadata": {
    "tags": []
   },
   "outputs": [],
   "source": [
    "scenarios = execute_benchmark(model_compare_scenarios,scenario_config)\n",
    "# Early breaking will break after a single scenario, useful for debugging.\n",
    "#execute_benchmark(model_compare_scenarios,scenario_config, early_break = True) "
   ]
  },
  {
   "cell_type": "markdown",
   "id": "6be2e495-dde6-46d1-9061-fb8c5751d781",
   "metadata": {},
   "source": [
    "### Results\n",
    "Adapt the show_results function to the type of data representation you wish to use. "
   ]
  },
  {
   "cell_type": "code",
   "execution_count": null,
   "id": "7921f2dc-86d3-4b59-b88b-22ce604084a2",
   "metadata": {
    "tags": []
   },
   "outputs": [],
   "source": [
    "def show_results(scenarios):\n",
    "\n",
    "    fig, ax = plt.subplots()\n",
    "\n",
    "    metric = 'time-to-first-token'\n",
    "    #metric = 'time-to-last-token'\n",
    "\n",
    "    for scenario in scenarios:\n",
    "      durations = [d[metric] for d in scenario['durations']]\n",
    "\n",
    "      ax.boxplot(durations, positions=[scenarios.index(scenario)])\n",
    "\n",
    "      ax.set_xticks(range(len(scenarios)))\n",
    "      ax.set_xticklabels([s['name'] for s in scenarios])\n",
    "\n",
    "      ax.set_ylabel(f'{metric} (sec)')\n",
    "\n",
    "    fig.tight_layout()\n",
    "    plt.show()"
   ]
  },
  {
   "cell_type": "code",
   "execution_count": null,
   "id": "0d588480-00c6-4e48-b045-aac5dc3bc42e",
   "metadata": {
    "tags": []
   },
   "outputs": [],
   "source": [
    "show_results(scenarios)"
   ]
  },
  {
   "cell_type": "markdown",
   "id": "b110537c-aab1-484e-b57f-f0d340e38707",
   "metadata": {
    "tags": []
   },
   "source": [
    "## Scenario 2. Region Comparison"
   ]
  },
  {
   "cell_type": "markdown",
   "id": "9d24cf80-bd77-4016-ab48-dc564140b4c2",
   "metadata": {},
   "source": [
    "> **🚨 ALERT 🚨** Remember to enable the models in **all regions** you wish to test. \n",
    "You can learn how to manage model access in the following [page](https://docs.aws.amazon.com/bedrock/latest/userguide/model-access.html#manage-model-access).\n"
   ]
  },
  {
   "cell_type": "code",
   "execution_count": null,
   "id": "9756c1dd-0f54-4def-b5f5-6f1eed29e9f3",
   "metadata": {
    "tags": []
   },
   "outputs": [],
   "source": [
    "region_compare_scenarios = [\n",
    "            {\n",
    "                'model_id'    : 'anthropic.claude-instant-v1',\n",
    "                'in_tokens'  : 200,\n",
    "                'out_tokens' : 50,\n",
    "                'region'     : 'us-east-1',\n",
    "                'stream' : True,\n",
    "                'name' : f'us-east-1',\n",
    "            },\n",
    "            {\n",
    "                'model_id'    : 'anthropic.claude-instant-v1',\n",
    "                'in_tokens' : 200,\n",
    "                'out_tokens' : 50,\n",
    "                'region'     : 'us-west-2',\n",
    "                'stream' : True,\n",
    "                'name' : f'us-west-2',\n",
    "            },\n",
    "            {\n",
    "                'model_id'    : 'anthropic.claude-instant-v1',\n",
    "                'in_tokens' : 200,\n",
    "                'out_tokens' : 50,\n",
    "                'region'     : 'eu-central-1',\n",
    "                'stream' : True,\n",
    "                'name' : f'eu-central-1',\n",
    "            },\n",
    "]\n",
    "\n",
    "scenario_config = {\n",
    "    \"invocations_per_scenario\" : 2,\n",
    "    \"sleep_between_invocations\": 5\n",
    "}"
   ]
  },
  {
   "cell_type": "code",
   "execution_count": null,
   "id": "d44b433f-a1f6-4655-ab85-1f4e7fd7e758",
   "metadata": {
    "tags": []
   },
   "outputs": [],
   "source": [
    "scenarios = execute_benchmark(region_compare_scenarios,scenario_config)\n",
    "# Early breaking will break after a single scenario, useful for debugging.\n",
    "#execute_benchmark(region_compare_scenarios,scenario_config, early_break = True)"
   ]
  },
  {
   "cell_type": "markdown",
   "id": "b47558c5-e64b-4e5d-a628-d3892468eb08",
   "metadata": {},
   "source": [
    "### Results\n",
    "Adapt the show_results function to the type of data representation you wish to use. "
   ]
  },
  {
   "cell_type": "code",
   "execution_count": null,
   "id": "8a4ad96a-adcc-4f89-995a-fda47b9623df",
   "metadata": {
    "tags": []
   },
   "outputs": [],
   "source": [
    "def show_results(scenarios):\n",
    "\n",
    "    fig, ax = plt.subplots()\n",
    "\n",
    "    metric = 'time-to-first-token'\n",
    "    #metric = 'time-to-last-token'\n",
    "\n",
    "    for scenario in scenarios:\n",
    "      durations = [d[metric] for d in scenario['durations']]\n",
    "\n",
    "      ax.boxplot(durations, positions=[scenarios.index(scenario)])\n",
    "\n",
    "      ax.set_xticks(range(len(scenarios)))\n",
    "      ax.set_xticklabels([s['name'] for s in scenarios])\n",
    "\n",
    "      ax.set_ylabel(f'{metric} (sec)')\n",
    "\n",
    "    fig.tight_layout()\n",
    "    plt.show()"
   ]
  },
  {
   "cell_type": "code",
   "execution_count": null,
   "id": "30aeffe9-cecb-4b78-b179-cfb2a1c15e85",
   "metadata": {
    "tags": []
   },
   "outputs": [],
   "source": [
    "show_results(scenarios)"
   ]
  },
  {
   "cell_type": "markdown",
   "id": "0c0952d0-a749-4f63-b40f-185db63573d5",
   "metadata": {
    "tags": []
   },
   "source": [
    "## Scenario 3. Use Case Comparison"
   ]
  },
  {
   "cell_type": "code",
   "execution_count": null,
   "id": "0c48a280-a440-4e82-9fc9-25b683d77baf",
   "metadata": {
    "tags": []
   },
   "outputs": [],
   "source": [
    "use_cases_scenarios = [\n",
    "            {\n",
    "                'model_id'    : 'anthropic.claude-v2',\n",
    "                'in_tokens'  : 1000,\n",
    "                'out_tokens' : 200,\n",
    "                'region'     : 'us-east-1',\n",
    "                'stream' : True,\n",
    "                'name' : f'Summarization. in=1000, out=200',\n",
    "            },\n",
    "            {\n",
    "                'model_id'    : 'anthropic.claude-v2',\n",
    "                'in_tokens' : 200,\n",
    "                'out_tokens' : 50,\n",
    "                'region'     : 'us-east-1',\n",
    "                'stream' : True,\n",
    "                'name' : f'Classification. in=200, out=50',\n",
    "            },\n",
    "]\n",
    "\n",
    "scenario_config = {\n",
    "    \"invocations_per_scenario\" : 2,\n",
    "    \"sleep_between_invocations\": 5\n",
    "}"
   ]
  },
  {
   "cell_type": "code",
   "execution_count": null,
   "id": "e09f1afc-66c5-4dd6-836b-6e4fe5a3b297",
   "metadata": {
    "tags": []
   },
   "outputs": [],
   "source": [
    "execute_benchmark(use_cases_scenarios,scenario_config, early_break = True)\n",
    "# Early breaking will break after a single scenario, useful for debugging.\n",
    "#execute_benchmark(use_cases_scenarios,scenario_config, early_break = True)"
   ]
  },
  {
   "cell_type": "markdown",
   "id": "8aabb709-b1e3-4bb2-86da-da5b22f268df",
   "metadata": {
    "tags": []
   },
   "source": [
    "### Results\n",
    "Adapt the show_results function to the type of data representation you wish to use. "
   ]
  },
  {
   "cell_type": "code",
   "execution_count": null,
   "id": "cbb100bb-8d92-4238-89a9-62ca6a96079c",
   "metadata": {
    "tags": []
   },
   "outputs": [],
   "source": [
    "def show_results(scenarios):\n",
    "\n",
    "    fig, ax = plt.subplots()\n",
    "\n",
    "    metric = 'time-to-first-token'\n",
    "    #metric = 'time-to-last-token'\n",
    "\n",
    "    for scenario in scenarios:\n",
    "      durations = [d[metric] for d in scenario['durations']]\n",
    "\n",
    "      ax.boxplot(durations, positions=[scenarios.index(scenario)])\n",
    "\n",
    "      ax.set_xticks(range(len(scenarios)))\n",
    "      ax.set_xticklabels([s['name'] for s in scenarios])\n",
    "\n",
    "      ax.set_ylabel(f'{metric} (sec)')\n",
    "\n",
    "    fig.tight_layout()\n",
    "    plt.show()"
   ]
  },
  {
   "cell_type": "code",
   "execution_count": null,
   "id": "1f162f24-ca36-43da-ba23-2e28c85edc25",
   "metadata": {
    "tags": []
   },
   "outputs": [],
   "source": [
    "show_results(scenarios)"
   ]
  }
 ],
 "metadata": {
  "availableInstances": [
   {
    "_defaultOrder": 0,
    "_isFastLaunch": true,
    "category": "General purpose",
    "gpuNum": 0,
    "hideHardwareSpecs": false,
    "memoryGiB": 4,
    "name": "ml.t3.medium",
    "vcpuNum": 2
   },
   {
    "_defaultOrder": 1,
    "_isFastLaunch": false,
    "category": "General purpose",
    "gpuNum": 0,
    "hideHardwareSpecs": false,
    "memoryGiB": 8,
    "name": "ml.t3.large",
    "vcpuNum": 2
   },
   {
    "_defaultOrder": 2,
    "_isFastLaunch": false,
    "category": "General purpose",
    "gpuNum": 0,
    "hideHardwareSpecs": false,
    "memoryGiB": 16,
    "name": "ml.t3.xlarge",
    "vcpuNum": 4
   },
   {
    "_defaultOrder": 3,
    "_isFastLaunch": false,
    "category": "General purpose",
    "gpuNum": 0,
    "hideHardwareSpecs": false,
    "memoryGiB": 32,
    "name": "ml.t3.2xlarge",
    "vcpuNum": 8
   },
   {
    "_defaultOrder": 4,
    "_isFastLaunch": true,
    "category": "General purpose",
    "gpuNum": 0,
    "hideHardwareSpecs": false,
    "memoryGiB": 8,
    "name": "ml.m5.large",
    "vcpuNum": 2
   },
   {
    "_defaultOrder": 5,
    "_isFastLaunch": false,
    "category": "General purpose",
    "gpuNum": 0,
    "hideHardwareSpecs": false,
    "memoryGiB": 16,
    "name": "ml.m5.xlarge",
    "vcpuNum": 4
   },
   {
    "_defaultOrder": 6,
    "_isFastLaunch": false,
    "category": "General purpose",
    "gpuNum": 0,
    "hideHardwareSpecs": false,
    "memoryGiB": 32,
    "name": "ml.m5.2xlarge",
    "vcpuNum": 8
   },
   {
    "_defaultOrder": 7,
    "_isFastLaunch": false,
    "category": "General purpose",
    "gpuNum": 0,
    "hideHardwareSpecs": false,
    "memoryGiB": 64,
    "name": "ml.m5.4xlarge",
    "vcpuNum": 16
   },
   {
    "_defaultOrder": 8,
    "_isFastLaunch": false,
    "category": "General purpose",
    "gpuNum": 0,
    "hideHardwareSpecs": false,
    "memoryGiB": 128,
    "name": "ml.m5.8xlarge",
    "vcpuNum": 32
   },
   {
    "_defaultOrder": 9,
    "_isFastLaunch": false,
    "category": "General purpose",
    "gpuNum": 0,
    "hideHardwareSpecs": false,
    "memoryGiB": 192,
    "name": "ml.m5.12xlarge",
    "vcpuNum": 48
   },
   {
    "_defaultOrder": 10,
    "_isFastLaunch": false,
    "category": "General purpose",
    "gpuNum": 0,
    "hideHardwareSpecs": false,
    "memoryGiB": 256,
    "name": "ml.m5.16xlarge",
    "vcpuNum": 64
   },
   {
    "_defaultOrder": 11,
    "_isFastLaunch": false,
    "category": "General purpose",
    "gpuNum": 0,
    "hideHardwareSpecs": false,
    "memoryGiB": 384,
    "name": "ml.m5.24xlarge",
    "vcpuNum": 96
   },
   {
    "_defaultOrder": 12,
    "_isFastLaunch": false,
    "category": "General purpose",
    "gpuNum": 0,
    "hideHardwareSpecs": false,
    "memoryGiB": 8,
    "name": "ml.m5d.large",
    "vcpuNum": 2
   },
   {
    "_defaultOrder": 13,
    "_isFastLaunch": false,
    "category": "General purpose",
    "gpuNum": 0,
    "hideHardwareSpecs": false,
    "memoryGiB": 16,
    "name": "ml.m5d.xlarge",
    "vcpuNum": 4
   },
   {
    "_defaultOrder": 14,
    "_isFastLaunch": false,
    "category": "General purpose",
    "gpuNum": 0,
    "hideHardwareSpecs": false,
    "memoryGiB": 32,
    "name": "ml.m5d.2xlarge",
    "vcpuNum": 8
   },
   {
    "_defaultOrder": 15,
    "_isFastLaunch": false,
    "category": "General purpose",
    "gpuNum": 0,
    "hideHardwareSpecs": false,
    "memoryGiB": 64,
    "name": "ml.m5d.4xlarge",
    "vcpuNum": 16
   },
   {
    "_defaultOrder": 16,
    "_isFastLaunch": false,
    "category": "General purpose",
    "gpuNum": 0,
    "hideHardwareSpecs": false,
    "memoryGiB": 128,
    "name": "ml.m5d.8xlarge",
    "vcpuNum": 32
   },
   {
    "_defaultOrder": 17,
    "_isFastLaunch": false,
    "category": "General purpose",
    "gpuNum": 0,
    "hideHardwareSpecs": false,
    "memoryGiB": 192,
    "name": "ml.m5d.12xlarge",
    "vcpuNum": 48
   },
   {
    "_defaultOrder": 18,
    "_isFastLaunch": false,
    "category": "General purpose",
    "gpuNum": 0,
    "hideHardwareSpecs": false,
    "memoryGiB": 256,
    "name": "ml.m5d.16xlarge",
    "vcpuNum": 64
   },
   {
    "_defaultOrder": 19,
    "_isFastLaunch": false,
    "category": "General purpose",
    "gpuNum": 0,
    "hideHardwareSpecs": false,
    "memoryGiB": 384,
    "name": "ml.m5d.24xlarge",
    "vcpuNum": 96
   },
   {
    "_defaultOrder": 20,
    "_isFastLaunch": false,
    "category": "General purpose",
    "gpuNum": 0,
    "hideHardwareSpecs": true,
    "memoryGiB": 0,
    "name": "ml.geospatial.interactive",
    "supportedImageNames": [
     "sagemaker-geospatial-v1-0"
    ],
    "vcpuNum": 0
   },
   {
    "_defaultOrder": 21,
    "_isFastLaunch": true,
    "category": "Compute optimized",
    "gpuNum": 0,
    "hideHardwareSpecs": false,
    "memoryGiB": 4,
    "name": "ml.c5.large",
    "vcpuNum": 2
   },
   {
    "_defaultOrder": 22,
    "_isFastLaunch": false,
    "category": "Compute optimized",
    "gpuNum": 0,
    "hideHardwareSpecs": false,
    "memoryGiB": 8,
    "name": "ml.c5.xlarge",
    "vcpuNum": 4
   },
   {
    "_defaultOrder": 23,
    "_isFastLaunch": false,
    "category": "Compute optimized",
    "gpuNum": 0,
    "hideHardwareSpecs": false,
    "memoryGiB": 16,
    "name": "ml.c5.2xlarge",
    "vcpuNum": 8
   },
   {
    "_defaultOrder": 24,
    "_isFastLaunch": false,
    "category": "Compute optimized",
    "gpuNum": 0,
    "hideHardwareSpecs": false,
    "memoryGiB": 32,
    "name": "ml.c5.4xlarge",
    "vcpuNum": 16
   },
   {
    "_defaultOrder": 25,
    "_isFastLaunch": false,
    "category": "Compute optimized",
    "gpuNum": 0,
    "hideHardwareSpecs": false,
    "memoryGiB": 72,
    "name": "ml.c5.9xlarge",
    "vcpuNum": 36
   },
   {
    "_defaultOrder": 26,
    "_isFastLaunch": false,
    "category": "Compute optimized",
    "gpuNum": 0,
    "hideHardwareSpecs": false,
    "memoryGiB": 96,
    "name": "ml.c5.12xlarge",
    "vcpuNum": 48
   },
   {
    "_defaultOrder": 27,
    "_isFastLaunch": false,
    "category": "Compute optimized",
    "gpuNum": 0,
    "hideHardwareSpecs": false,
    "memoryGiB": 144,
    "name": "ml.c5.18xlarge",
    "vcpuNum": 72
   },
   {
    "_defaultOrder": 28,
    "_isFastLaunch": false,
    "category": "Compute optimized",
    "gpuNum": 0,
    "hideHardwareSpecs": false,
    "memoryGiB": 192,
    "name": "ml.c5.24xlarge",
    "vcpuNum": 96
   },
   {
    "_defaultOrder": 29,
    "_isFastLaunch": true,
    "category": "Accelerated computing",
    "gpuNum": 1,
    "hideHardwareSpecs": false,
    "memoryGiB": 16,
    "name": "ml.g4dn.xlarge",
    "vcpuNum": 4
   },
   {
    "_defaultOrder": 30,
    "_isFastLaunch": false,
    "category": "Accelerated computing",
    "gpuNum": 1,
    "hideHardwareSpecs": false,
    "memoryGiB": 32,
    "name": "ml.g4dn.2xlarge",
    "vcpuNum": 8
   },
   {
    "_defaultOrder": 31,
    "_isFastLaunch": false,
    "category": "Accelerated computing",
    "gpuNum": 1,
    "hideHardwareSpecs": false,
    "memoryGiB": 64,
    "name": "ml.g4dn.4xlarge",
    "vcpuNum": 16
   },
   {
    "_defaultOrder": 32,
    "_isFastLaunch": false,
    "category": "Accelerated computing",
    "gpuNum": 1,
    "hideHardwareSpecs": false,
    "memoryGiB": 128,
    "name": "ml.g4dn.8xlarge",
    "vcpuNum": 32
   },
   {
    "_defaultOrder": 33,
    "_isFastLaunch": false,
    "category": "Accelerated computing",
    "gpuNum": 4,
    "hideHardwareSpecs": false,
    "memoryGiB": 192,
    "name": "ml.g4dn.12xlarge",
    "vcpuNum": 48
   },
   {
    "_defaultOrder": 34,
    "_isFastLaunch": false,
    "category": "Accelerated computing",
    "gpuNum": 1,
    "hideHardwareSpecs": false,
    "memoryGiB": 256,
    "name": "ml.g4dn.16xlarge",
    "vcpuNum": 64
   },
   {
    "_defaultOrder": 35,
    "_isFastLaunch": false,
    "category": "Accelerated computing",
    "gpuNum": 1,
    "hideHardwareSpecs": false,
    "memoryGiB": 61,
    "name": "ml.p3.2xlarge",
    "vcpuNum": 8
   },
   {
    "_defaultOrder": 36,
    "_isFastLaunch": false,
    "category": "Accelerated computing",
    "gpuNum": 4,
    "hideHardwareSpecs": false,
    "memoryGiB": 244,
    "name": "ml.p3.8xlarge",
    "vcpuNum": 32
   },
   {
    "_defaultOrder": 37,
    "_isFastLaunch": false,
    "category": "Accelerated computing",
    "gpuNum": 8,
    "hideHardwareSpecs": false,
    "memoryGiB": 488,
    "name": "ml.p3.16xlarge",
    "vcpuNum": 64
   },
   {
    "_defaultOrder": 38,
    "_isFastLaunch": false,
    "category": "Accelerated computing",
    "gpuNum": 8,
    "hideHardwareSpecs": false,
    "memoryGiB": 768,
    "name": "ml.p3dn.24xlarge",
    "vcpuNum": 96
   },
   {
    "_defaultOrder": 39,
    "_isFastLaunch": false,
    "category": "Memory Optimized",
    "gpuNum": 0,
    "hideHardwareSpecs": false,
    "memoryGiB": 16,
    "name": "ml.r5.large",
    "vcpuNum": 2
   },
   {
    "_defaultOrder": 40,
    "_isFastLaunch": false,
    "category": "Memory Optimized",
    "gpuNum": 0,
    "hideHardwareSpecs": false,
    "memoryGiB": 32,
    "name": "ml.r5.xlarge",
    "vcpuNum": 4
   },
   {
    "_defaultOrder": 41,
    "_isFastLaunch": false,
    "category": "Memory Optimized",
    "gpuNum": 0,
    "hideHardwareSpecs": false,
    "memoryGiB": 64,
    "name": "ml.r5.2xlarge",
    "vcpuNum": 8
   },
   {
    "_defaultOrder": 42,
    "_isFastLaunch": false,
    "category": "Memory Optimized",
    "gpuNum": 0,
    "hideHardwareSpecs": false,
    "memoryGiB": 128,
    "name": "ml.r5.4xlarge",
    "vcpuNum": 16
   },
   {
    "_defaultOrder": 43,
    "_isFastLaunch": false,
    "category": "Memory Optimized",
    "gpuNum": 0,
    "hideHardwareSpecs": false,
    "memoryGiB": 256,
    "name": "ml.r5.8xlarge",
    "vcpuNum": 32
   },
   {
    "_defaultOrder": 44,
    "_isFastLaunch": false,
    "category": "Memory Optimized",
    "gpuNum": 0,
    "hideHardwareSpecs": false,
    "memoryGiB": 384,
    "name": "ml.r5.12xlarge",
    "vcpuNum": 48
   },
   {
    "_defaultOrder": 45,
    "_isFastLaunch": false,
    "category": "Memory Optimized",
    "gpuNum": 0,
    "hideHardwareSpecs": false,
    "memoryGiB": 512,
    "name": "ml.r5.16xlarge",
    "vcpuNum": 64
   },
   {
    "_defaultOrder": 46,
    "_isFastLaunch": false,
    "category": "Memory Optimized",
    "gpuNum": 0,
    "hideHardwareSpecs": false,
    "memoryGiB": 768,
    "name": "ml.r5.24xlarge",
    "vcpuNum": 96
   },
   {
    "_defaultOrder": 47,
    "_isFastLaunch": false,
    "category": "Accelerated computing",
    "gpuNum": 1,
    "hideHardwareSpecs": false,
    "memoryGiB": 16,
    "name": "ml.g5.xlarge",
    "vcpuNum": 4
   },
   {
    "_defaultOrder": 48,
    "_isFastLaunch": false,
    "category": "Accelerated computing",
    "gpuNum": 1,
    "hideHardwareSpecs": false,
    "memoryGiB": 32,
    "name": "ml.g5.2xlarge",
    "vcpuNum": 8
   },
   {
    "_defaultOrder": 49,
    "_isFastLaunch": false,
    "category": "Accelerated computing",
    "gpuNum": 1,
    "hideHardwareSpecs": false,
    "memoryGiB": 64,
    "name": "ml.g5.4xlarge",
    "vcpuNum": 16
   },
   {
    "_defaultOrder": 50,
    "_isFastLaunch": false,
    "category": "Accelerated computing",
    "gpuNum": 1,
    "hideHardwareSpecs": false,
    "memoryGiB": 128,
    "name": "ml.g5.8xlarge",
    "vcpuNum": 32
   },
   {
    "_defaultOrder": 51,
    "_isFastLaunch": false,
    "category": "Accelerated computing",
    "gpuNum": 1,
    "hideHardwareSpecs": false,
    "memoryGiB": 256,
    "name": "ml.g5.16xlarge",
    "vcpuNum": 64
   },
   {
    "_defaultOrder": 52,
    "_isFastLaunch": false,
    "category": "Accelerated computing",
    "gpuNum": 4,
    "hideHardwareSpecs": false,
    "memoryGiB": 192,
    "name": "ml.g5.12xlarge",
    "vcpuNum": 48
   },
   {
    "_defaultOrder": 53,
    "_isFastLaunch": false,
    "category": "Accelerated computing",
    "gpuNum": 4,
    "hideHardwareSpecs": false,
    "memoryGiB": 384,
    "name": "ml.g5.24xlarge",
    "vcpuNum": 96
   },
   {
    "_defaultOrder": 54,
    "_isFastLaunch": false,
    "category": "Accelerated computing",
    "gpuNum": 8,
    "hideHardwareSpecs": false,
    "memoryGiB": 768,
    "name": "ml.g5.48xlarge",
    "vcpuNum": 192
   },
   {
    "_defaultOrder": 55,
    "_isFastLaunch": false,
    "category": "Accelerated computing",
    "gpuNum": 8,
    "hideHardwareSpecs": false,
    "memoryGiB": 1152,
    "name": "ml.p4d.24xlarge",
    "vcpuNum": 96
   },
   {
    "_defaultOrder": 56,
    "_isFastLaunch": false,
    "category": "Accelerated computing",
    "gpuNum": 8,
    "hideHardwareSpecs": false,
    "memoryGiB": 1152,
    "name": "ml.p4de.24xlarge",
    "vcpuNum": 96
   }
  ],
  "kernelspec": {
   "display_name": "Python 3 (Base Python 3.0)",
   "language": "python",
   "name": "python3__SAGEMAKER_INTERNAL__arn:aws:sagemaker:us-east-1:081325390199:image/sagemaker-base-python-310-v1"
  },
  "language_info": {
   "codemirror_mode": {
    "name": "ipython",
    "version": 3
   },
   "file_extension": ".py",
   "mimetype": "text/x-python",
   "name": "python",
   "nbconvert_exporter": "python",
   "pygments_lexer": "ipython3",
   "version": "3.10.8"
  }
 },
 "nbformat": 4,
 "nbformat_minor": 5
}
